{
 "cells": [
  {
   "cell_type": "code",
   "execution_count": 3,
   "id": "6cb9dd3b-119b-4bc9-bd40-2f9dcadd28e7",
   "metadata": {},
   "outputs": [],
   "source": [
    "import polars as pl\n",
    "import seaborn as sns\n",
    "import numpy as np"
   ]
  },
  {
   "cell_type": "code",
   "execution_count": 2,
   "id": "d7e6c07b-20f5-4b7d-bc3f-dd272ae2af4d",
   "metadata": {},
   "outputs": [],
   "source": [
    "models = pl.read_csv('models.csv', infer_schema_length=None)\n",
    "models = models.select(pl.col('model'), pl.col('acc1').cast(pl.Float32), pl.col('acc5').cast(pl.Float32),\n",
    "                       pl.col('params'), pl.col('gflops'))"
   ]
  },
  {
   "cell_type": "code",
   "execution_count": 37,
   "id": "54598ed8-37ae-41ae-9e00-91de0bb2119b",
   "metadata": {},
   "outputs": [],
   "source": [
    "accuracies = np.arange(90, 97)\n",
    "best_gflops = np.zeros((len(accuracies),))\n",
    "best_params = np.zeros((len(accuracies),))\n",
    "for i, accuracy in enumerate(accuracies):\n",
    "    filtered = models.filter(pl.col('acc5') > accuracy).sort(pl.col('gflops'))[0]\n",
    "    best_gflops[i] = filtered['gflops'].item()\n",
    "    best_params[i] = float(filtered['params'].item()[:-1])"
   ]
  },
  {
   "cell_type": "code",
   "execution_count": 38,
   "id": "45ae631a-efc2-430e-be89-464777a7efd1",
   "metadata": {},
   "outputs": [],
   "source": [
    "sns.set_theme()"
   ]
  },
  {
   "cell_type": "code",
   "execution_count": 46,
   "id": "d353e206-db3c-440a-9fc8-b3dab3b01488",
   "metadata": {},
   "outputs": [
    {
     "data": {
      "text/plain": [
       "<seaborn.axisgrid.FacetGrid at 0x1402a1240>"
      ]
     },
     "execution_count": 46,
     "metadata": {},
     "output_type": "execute_result"
    },
    {
     "data": {
      "image/png": "[encoded data removed]",
      "text/plain": [
       "<Figure size 669.125x500 with 1 Axes>"
      ]
     },
     "metadata": {},
     "output_type": "display_data"
    }
   ],
   "source": [
    "sns.relplot(\n",
    "    x='Accuracy', y='value', hue='variable',\n",
    "    data=pl.DataFrame({\"Accuracy\": accuracies, \"Lowest GFLOPS\": best_gflops, \"Params\": best_params}).melt('Accuracy')\n",
    ")"
   ]
  },
  {
   "cell_type": "code",
   "execution_count": 49,
   "id": "930f27c9-d188-4603-ae77-3697caef27a4",
   "metadata": {},
   "outputs": [
    {
     "data": {
      "text/html": [
       "<div><style>\n",
       ".dataframe > thead > tr,\n",
       ".dataframe > tbody > tr {\n",
       "  text-align: right;\n",
       "  white-space: pre-wrap;\n",
       "}\n",
       "</style>\n",
       "<small>shape: (88, 5)</small><table border=\"1\" class=\"dataframe\"><thead><tr><th>model</th><th>acc1</th><th>acc5</th><th>params</th><th>gflops</th></tr><tr><td>str</td><td>f32</td><td>f32</td><td>str</td><td>f64</td></tr></thead><tbody><tr><td>&quot;MobileNet_V3_L…</td><td>75.274002</td><td>92.566002</td><td>&quot;5.5M&quot;</td><td>0.22</td></tr><tr><td>&quot;EfficientNet_B…</td><td>77.692001</td><td>93.531998</td><td>&quot;5.3M&quot;</td><td>0.39</td></tr><tr><td>&quot;RegNet_Y_400MF…</td><td>75.804001</td><td>92.741997</td><td>&quot;4.3M&quot;</td><td>0.4</td></tr><tr><td>&quot;RegNet_X_400MF…</td><td>74.863998</td><td>92.321999</td><td>&quot;5.5M&quot;</td><td>0.41</td></tr><tr><td>&quot;MNASNet1_3_Wei…</td><td>76.505997</td><td>93.522003</td><td>&quot;6.3M&quot;</td><td>0.53</td></tr><tr><td>&hellip;</td><td>&hellip;</td><td>&hellip;</td><td>&hellip;</td><td>&hellip;</td></tr><tr><td>&quot;RegNet_Y_128GF…</td><td>86.068001</td><td>97.844002</td><td>&quot;644.8M&quot;</td><td>127.52</td></tr><tr><td>&quot;ViT_H_14_Weigh…</td><td>85.708</td><td>97.730003</td><td>&quot;632.0M&quot;</td><td>167.29</td></tr><tr><td>&quot;ViT_L_16_Weigh…</td><td>88.064003</td><td>98.512001</td><td>&quot;305.2M&quot;</td><td>361.99</td></tr><tr><td>&quot;RegNet_Y_128GF…</td><td>88.227997</td><td>98.681999</td><td>&quot;644.8M&quot;</td><td>374.57</td></tr><tr><td>&quot;ViT_H_14_Weigh…</td><td>88.552002</td><td>98.694</td><td>&quot;633.5M&quot;</td><td>1016.72</td></tr></tbody></table></div>"
      ],
      "text/plain": [
       "shape: (88, 5)\n",
       "┌───────────────────────────────────┬───────────┬───────────┬────────┬─────────┐\n",
       "│ model                             ┆ acc1      ┆ acc5      ┆ params ┆ gflops  │\n",
       "│ ---                               ┆ ---       ┆ ---       ┆ ---    ┆ ---     │\n",
       "│ str                               ┆ f32       ┆ f32       ┆ str    ┆ f64     │\n",
       "╞═══════════════════════════════════╪═══════════╪═══════════╪════════╪═════════╡\n",
       "│ MobileNet_V3_Large_Weights.IMAGE… ┆ 75.274002 ┆ 92.566002 ┆ 5.5M   ┆ 0.22    │\n",
       "│ EfficientNet_B0_Weights.IMAGENET… ┆ 77.692001 ┆ 93.531998 ┆ 5.3M   ┆ 0.39    │\n",
       "│ RegNet_Y_400MF_Weights.IMAGENET1… ┆ 75.804001 ┆ 92.741997 ┆ 4.3M   ┆ 0.4     │\n",
       "│ RegNet_X_400MF_Weights.IMAGENET1… ┆ 74.863998 ┆ 92.321999 ┆ 5.5M   ┆ 0.41    │\n",
       "│ MNASNet1_3_Weights.IMAGENET1K_V1  ┆ 76.505997 ┆ 93.522003 ┆ 6.3M   ┆ 0.53    │\n",
       "│ …                                 ┆ …         ┆ …         ┆ …      ┆ …       │\n",
       "│ RegNet_Y_128GF_Weights.IMAGENET1… ┆ 86.068001 ┆ 97.844002 ┆ 644.8M ┆ 127.52  │\n",
       "│ ViT_H_14_Weights.IMAGENET1K_SWAG… ┆ 85.708    ┆ 97.730003 ┆ 632.0M ┆ 167.29  │\n",
       "│ ViT_L_16_Weights.IMAGENET1K_SWAG… ┆ 88.064003 ┆ 98.512001 ┆ 305.2M ┆ 361.99  │\n",
       "│ RegNet_Y_128GF_Weights.IMAGENET1… ┆ 88.227997 ┆ 98.681999 ┆ 644.8M ┆ 374.57  │\n",
       "│ ViT_H_14_Weights.IMAGENET1K_SWAG… ┆ 88.552002 ┆ 98.694    ┆ 633.5M ┆ 1016.72 │\n",
       "└───────────────────────────────────┴───────────┴───────────┴────────┴─────────┘"
      ]
     },
     "execution_count": 49,
     "metadata": {},
     "output_type": "execute_result"
    }
   ],
   "source": [
    "models.filter(pl.col('acc5') > 92).sort(pl.col('gflops'))"
   ]
  },
  {
   "cell_type": "code",
   "execution_count": null,
   "id": "c7cd5389-6423-44ec-a33b-2ee1e8857650",
   "metadata": {},
   "outputs": [],
   "source": [
    "'EfficientNet_B2_Weights.IMAGENET1K_V1'"
   ]
  }
 ],
 "metadata": {
  "kernelspec": {
   "display_name": "Python 3 (ipykernel)",
   "language": "python",
   "name": "python3"
  },
  "language_info": {
   "codemirror_mode": {
    "name": "ipython",
    "version": 3
   },
   "file_extension": ".py",
   "mimetype": "text/x-python",
   "name": "python",
   "nbconvert_exporter": "python",
   "pygments_lexer": "ipython3",
   "version": "3.10.2"
  }
 },
 "nbformat": 4,
 "nbformat_minor": 5
}
