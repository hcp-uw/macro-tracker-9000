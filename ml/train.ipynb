{
 "cells": [
  {
   "cell_type": "code",
   "execution_count": 1,
   "id": "257b4749-2464-4b69-944c-c9c76664ea99",
   "metadata": {},
   "outputs": [],
   "source": [
    "import os\n",
    "import torch\n",
    "import torch.nn as nn\n",
    "import torch.nn.functional as F\n",
    "import torch.utils.data as data\n",
    "import torchvision.models as models\n",
    "from torchvision.io import read_image\n",
    "import torchvision.transforms.v2 as transforms\n",
    "import lightning as L\n",
    "import matplotlib.pyplot as plt"
   ]
  },
  {
   "cell_type": "code",
   "execution_count": 2,
   "id": "3aea888f-9de1-48e9-86f9-77fca88b49aa",
   "metadata": {},
   "outputs": [],
   "source": [
    "class Model(L.LightningModule):\n",
    "    def __init__(self, num_classes=100):\n",
    "        super().__init__()\n",
    "\n",
    "        weights = models.EfficientNet_B2_Weights.IMAGENET1K_V1\n",
    "        self.preprocess = weights.transforms()\n",
    "        backbone = models.efficientnet_b2(weights=weights)\n",
    "        num_filters = 1408\n",
    "        layers = list(backbone.children())[:-1]\n",
    "        self.feature_extractor = nn.Sequential(*layers)\n",
    "        # self.feature_extractor.eval()\n",
    "        # for param in self.feature_extractor.parameters():\n",
    "        #     param.requires_grad = False\n",
    "\n",
    "        self.classifier = nn.Sequential(\n",
    "            nn.Dropout(p=0.3, inplace=True),\n",
    "            nn.Linear(num_filters, num_classes)\n",
    "        )\n",
    "\n",
    "    def training_step(self, batch, batch_idx):\n",
    "        x, y = batch\n",
    "        x = self.feature_extractor(x)\n",
    "        x = torch.flatten(x, start_dim=1)\n",
    "        x = self.classifier(x)\n",
    "        loss = F.cross_entropy(x, y)\n",
    "        self.log(\"train_loss\", loss, prog_bar=True)\n",
    "        return loss\n",
    "\n",
    "    def validation_step(self, batch, batch_idx):\n",
    "        x, y = batch\n",
    "        x = self.feature_extractor(x)\n",
    "        x = torch.flatten(x, start_dim=1)\n",
    "        x = self.classifier(x)\n",
    "        loss = F.cross_entropy(x, y)\n",
    "        self.log(\"val_loss\", loss, prog_bar=True)\n",
    "\n",
    "    def configure_optimizers(self):\n",
    "        optimizer = torch.optim.Adam(self.parameters(), lr=1e-3)\n",
    "        return optimizer"
   ]
  },
  {
   "cell_type": "code",
   "execution_count": 3,
   "id": "1530cd93-c7b8-4e4a-bd85-a1581dec1af9",
   "metadata": {},
   "outputs": [],
   "source": [
    "model = Model()"
   ]
  },
  {
   "cell_type": "code",
   "execution_count": 4,
   "id": "e226e5df-3fe4-4af8-9437-968c9308168b",
   "metadata": {
    "scrolled": true
   },
   "outputs": [],
   "source": [
    "class Food2kDataset(data.Dataset):\n",
    "    def __init__(self, img_dir, transform=None):\n",
    "        classes = os.listdir(img_dir)\n",
    "        self.images = []\n",
    "        for class_name in classes:\n",
    "            for image in os.listdir(os.path.join(img_dir, class_name)):\n",
    "                self.images.append((os.path.join(img_dir, class_name, image), int(class_name)))\n",
    "        self.transform = transform\n",
    "\n",
    "    def __len__(self):\n",
    "        return len(self.images)\n",
    "\n",
    "    def __getitem__(self, idx):\n",
    "        image = read_image(self.images[idx][0])\n",
    "        label = self.images[idx][1]\n",
    "        if self.transform:\n",
    "            image = self.transform(image)\n",
    "        return image, label"
   ]
  },
  {
   "cell_type": "code",
   "execution_count": 5,
   "id": "a97dfa4e-3680-4469-bbd4-09324c0594e6",
   "metadata": {},
   "outputs": [
    {
     "name": "stderr",
     "output_type": "stream",
     "text": [
      "C:\\Users\\Keanu Thakalath\\AppData\\Local\\Programs\\Python\\Python312\\Lib\\site-packages\\torchvision\\transforms\\v2\\_deprecated.py:41: UserWarning: The transform `ToTensor()` is deprecated and will be removed in a future release. Instead, please use `v2.Compose([v2.ToImage(), v2.ToDtype(torch.float32, scale=True)])`.\n",
      "  warnings.warn(\n"
     ]
    }
   ],
   "source": [
    "train_set = Food2kDataset('data/train', transforms.Compose([\n",
    "                    transforms.ToTensor(),\n",
    "                    model.preprocess\n",
    "                ]))\n",
    "val_set = Food2kDataset('data/val', transforms.Compose([\n",
    "                    transforms.ToTensor(),\n",
    "                    model.preprocess\n",
    "                ]))\n",
    "test_set = Food2kDataset('data/test', transforms.Compose([\n",
    "                    transforms.ToTensor(),\n",
    "                    model.preprocess\n",
    "                ]))\n",
    "\n",
    "train_loader = data.DataLoader(train_set, batch_size=16, shuffle=True)\n",
    "val_loader = data.DataLoader(val_set, batch_size=16)"
   ]
  },
  {
   "cell_type": "code",
   "execution_count": null,
   "id": "3d8987e3-d968-4483-bb34-a40cf7cd2d23",
   "metadata": {
    "scrolled": true
   },
   "outputs": [
    {
     "name": "stderr",
     "output_type": "stream",
     "text": [
      "GPU available: True (cuda), used: True\n",
      "TPU available: False, using: 0 TPU cores\n",
      "IPU available: False, using: 0 IPUs\n",
      "HPU available: False, using: 0 HPUs\n",
      "C:\\Users\\Keanu Thakalath\\AppData\\Local\\Programs\\Python\\Python312\\Lib\\site-packages\\lightning\\pytorch\\loops\\utilities.py:73: `max_epochs` was not set. Setting it to 1000 epochs. To train without an epoch limit, set `max_epochs=-1`.\n",
      "LOCAL_RANK: 0 - CUDA_VISIBLE_DEVICES: [0]\n",
      "\n",
      "  | Name              | Type                | Params\n",
      "----------------------------------------------------------\n",
      "0 | preprocess        | ImageClassification | 0     \n",
      "1 | feature_extractor | Sequential          | 7.7 M \n",
      "2 | classifier        | Sequential          | 140 K \n",
      "----------------------------------------------------------\n",
      "7.8 M     Trainable params\n",
      "0         Non-trainable params\n",
      "7.8 M     Total params\n",
      "31.368    Total estimated model params size (MB)\n"
     ]
    },
    {
     "name": "stdout",
     "output_type": "stream",
     "text": [
      "Sanity Checking: |                                                                               | 0/? [00:00<?, ?it/s]"
     ]
    },
    {
     "name": "stderr",
     "output_type": "stream",
     "text": [
      "C:\\Users\\Keanu Thakalath\\AppData\\Local\\Programs\\Python\\Python312\\Lib\\site-packages\\lightning\\pytorch\\trainer\\connectors\\data_connector.py:441: The 'val_dataloader' does not have many workers which may be a bottleneck. Consider increasing the value of the `num_workers` argument` to `num_workers=3` in the `DataLoader` to improve performance.\n"
     ]
    },
    {
     "name": "stdout",
     "output_type": "stream",
     "text": [
      "                                                                                                                       "
     ]
    },
    {
     "name": "stderr",
     "output_type": "stream",
     "text": [
      "C:\\Users\\Keanu Thakalath\\AppData\\Local\\Programs\\Python\\Python312\\Lib\\site-packages\\lightning\\pytorch\\trainer\\connectors\\data_connector.py:441: The 'train_dataloader' does not have many workers which may be a bottleneck. Consider increasing the value of the `num_workers` argument` to `num_workers=3` in the `DataLoader` to improve performance.\n"
     ]
    },
    {
     "name": "stdout",
     "output_type": "stream",
     "text": [
      "Epoch 0:  55%|██████████████████████▉                   | 1119/2045 [05:29<04:32,  3.39it/s, v_num=2, train_loss=0.543]"
     ]
    }
   ],
   "source": [
    "trainer = L.Trainer(accelerator=\"gpu\", devices=1)\n",
    "trainer.fit(model, train_loader, val_loader)"
   ]
  },
  {
   "cell_type": "code",
   "execution_count": null,
   "id": "bcc47090-355b-4f2a-b786-468204a1a559",
   "metadata": {
    "scrolled": true
   },
   "outputs": [],
   "source": [
    "model.cpu()\n",
    "model.eval()"
   ]
  },
  {
   "cell_type": "code",
   "execution_count": null,
   "id": "eef5b08a-afba-40cd-a638-4eca80d6a734",
   "metadata": {},
   "outputs": [],
   "source": [
    "x, y = next(iter(val_loader))\n",
    "pred = model.feature_extractor(x)\n",
    "pred = torch.flatten(pred, start_dim=1)\n",
    "pred = model.classifier(pred)"
   ]
  },
  {
   "cell_type": "code",
   "execution_count": null,
   "id": "a2ebf291-60e6-405f-aace-1c663c019643",
   "metadata": {},
   "outputs": [],
   "source": [
    "ex = 1\n",
    "plt.imshow(x[ex][0])\n",
    "print(f\"Label: {y[ex].item()} Predicted: {pred[ex].argmax().item()}\")"
   ]
  },
  {
   "cell_type": "code",
   "execution_count": null,
   "id": "f3b8a1f7-c053-4643-8d73-642bf39000a8",
   "metadata": {},
   "outputs": [],
   "source": []
  }
 ],
 "metadata": {
  "kernelspec": {
   "display_name": "Python 3 (ipykernel)",
   "language": "python",
   "name": "python3"
  },
  "language_info": {
   "codemirror_mode": {
    "name": "ipython",
    "version": 3
   },
   "file_extension": ".py",
   "mimetype": "text/x-python",
   "name": "python",
   "nbconvert_exporter": "python",
   "pygments_lexer": "ipython3",
   "version": "3.12.3"
  }
 },
 "nbformat": 4,
 "nbformat_minor": 5
}
